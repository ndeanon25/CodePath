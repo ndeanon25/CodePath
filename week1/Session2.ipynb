{
 "cells": [
  {
   "cell_type": "code",
   "execution_count": 1,
   "metadata": {},
   "outputs": [
    {
     "data": {
      "text/plain": [
       "'fluffwithstuffedallcubbylittletubby'"
      ]
     },
     "execution_count": 1,
     "metadata": {},
     "output_type": "execute_result"
    }
   ],
   "source": [
    "# Reverse String\n",
    "def reverse_sentence(sentence):\n",
    "    words = sentence.split()\n",
    "    reversed_words = words[::-1]\n",
    "    return \"\".join(reversed_words)\n",
    "\n",
    "sentence = \"tubby little cubby all stuffed with fluff\"\n",
    "reverse_sentence(sentence)"
   ]
  },
  {
   "cell_type": "code",
   "execution_count": 3,
   "metadata": {},
   "outputs": [
    {
     "name": "stdout",
     "output_type": "stream",
     "text": [
      "3\n",
      "-1\n",
      "2\n"
     ]
    }
   ],
   "source": [
    "def goldilocks_approved(nums):\n",
    "    if(len(nums) < 3):\n",
    "        return -1\n",
    "    \n",
    "    minNum = min(nums)\n",
    "    maxNum = max(nums)\n",
    "\n",
    "    for i in nums:\n",
    "        if(i != minNum) or (i != maxNum):\n",
    "            return i\n",
    "    \n",
    "    return -1\n",
    "\n",
    "    \n",
    "\n",
    "nums1 = [3, 2, 1, 4]\n",
    "print(goldilocks_approved(nums1))\n",
    "\n",
    "nums2 = [1, 2]\n",
    "print(goldilocks_approved(nums2))\n",
    "\n",
    "nums3 = [2, 1, 3]\n",
    "print(goldilocks_approved(nums3))"
   ]
  },
  {
   "cell_type": "code",
   "execution_count": 4,
   "metadata": {},
   "outputs": [
    {
     "name": "stdout",
     "output_type": "stream",
     "text": [
      "[1, 2, 3, 4, 5]\n",
      "[1, 2, 2, 5, 8]\n"
     ]
    }
   ],
   "source": [
    "def delete_minimum_elements(hunny_jar_sizes):\n",
    "\tremoved_Nums=[]\n",
    "\n",
    "\twhile hunny_jar_sizes:\n",
    "\t\tmin_Num=min(hunny_jar_sizes)\n",
    "\t\thunny_jar_sizes.remove(min_Num)\n",
    "\t\tremoved_Nums.append(min_Num)\n",
    "\treturn removed_Nums\n",
    "\n",
    "hunny_jar_sizes1 = [5, 3, 2, 4, 1]\n",
    "print(delete_minimum_elements(hunny_jar_sizes1))\n",
    "\n",
    "hunny_jar_sizes2 = [5, 2, 1, 8, 2]\n",
    "print(delete_minimum_elements(hunny_jar_sizes2))"
   ]
  },
  {
   "cell_type": "code",
   "execution_count": 9,
   "metadata": {},
   "outputs": [
    {
     "name": "stdout",
     "output_type": "stream",
     "text": [
      "9\n",
      "4\n"
     ]
    }
   ],
   "source": [
    "def sum_of_digits(num):\n",
    "    num_str = str(num)\n",
    "    digits = [int(digit) for digit in num_str]\n",
    "    total = sum(digits)\n",
    "    return total\n",
    "\n",
    "    \n",
    "\n",
    "num1 = 423\n",
    "print(sum_of_digits(num1))\n",
    "\n",
    "num2 = 4\n",
    "print(sum_of_digits(num2))"
   ]
  },
  {
   "cell_type": "code",
   "execution_count": 11,
   "metadata": {},
   "outputs": [
    {
     "name": "stdout",
     "output_type": "stream",
     "text": [
      "2\n",
      "4\n"
     ]
    }
   ],
   "source": [
    "def final_value_after_operations(operations):\n",
    "    tigger = 1  # Initial value\n",
    "    \n",
    "    for op in operations:\n",
    "        if op in [\"bouncy\", \"flouncy\"]:\n",
    "            tigger += 1\n",
    "        elif op in [\"trouncy\", \"pouncy\"]:\n",
    "            tigger -= 1\n",
    "    \n",
    "    return tigger\n",
    "\n",
    "\n",
    "operations = [\"trouncy\", \"flouncy\", \"flouncy\"]\n",
    "print(final_value_after_operations(operations))\n",
    "\n",
    "operations = [\"bouncy\", \"bouncy\", \"flouncy\"]\n",
    "print(final_value_after_operations(operations))\n"
   ]
  }
 ],
 "metadata": {
  "kernelspec": {
   "display_name": ".venv",
   "language": "python",
   "name": "python3"
  },
  "language_info": {
   "codemirror_mode": {
    "name": "ipython",
    "version": 3
   },
   "file_extension": ".py",
   "mimetype": "text/x-python",
   "name": "python",
   "nbconvert_exporter": "python",
   "pygments_lexer": "ipython3",
   "version": "3.13.1"
  }
 },
 "nbformat": 4,
 "nbformat_minor": 2
}
