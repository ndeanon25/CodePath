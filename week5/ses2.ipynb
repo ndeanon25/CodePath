{
 "cells": [
  {
   "cell_type": "code",
   "execution_count": 2,
   "metadata": {},
   "outputs": [
    {
     "name": "stdout",
     "output_type": "stream",
     "text": [
      "True\n",
      "True\n",
      "False\n"
     ]
    }
   ],
   "source": [
    "# def find_task_pair(task_times, available_time):\n",
    "#   for i in range(len(task_times)):\n",
    "#     for j in range(i+1, len(task_times)):\n",
    "#       if task_times[i] + task_times[j] == available_time:\n",
    "#         return True\n",
    "#   return False\n",
    "\n",
    "def find_task_pair(task_times, available_time):\n",
    "    seen = set()\n",
    "    for task in task_times:\n",
    "        complement = available_time - task\n",
    "        if complement in seen:\n",
    "            return True\n",
    "        else:\n",
    "            seen.add(task)\n",
    "    return False \n",
    "\n",
    "#Test Cases\n",
    "task_times = [30, 45, 60, 90, 120]\n",
    "available_time = 105\n",
    "print(find_task_pair(task_times, available_time))\n",
    "\n",
    "task_times_2 = [15, 25, 35, 45, 55]\n",
    "available_time = 100\n",
    "print(find_task_pair(task_times_2, available_time))\n",
    "\n",
    "task_times_3 = [20, 30, 50, 70]\n",
    "available_time = 60\n",
    "print(find_task_pair(task_times_3, available_time))"
   ]
  },
  {
   "cell_type": "code",
   "execution_count": 3,
   "metadata": {},
   "outputs": [
    {
     "name": "stdout",
     "output_type": "stream",
     "text": [
      "60\n",
      "30\n",
      "15\n"
     ]
    }
   ],
   "source": [
    "def to_minutes(time):\n",
    "    hours = time // 100\n",
    "    minutes = time % 100\n",
    "    return hours*60 + minutes\n",
    "    \n",
    "\n",
    "def find_smallest_gap(work_sessions):\n",
    "   # Step 1: Sort the sessions by start time\n",
    "    work_sessions.sort(key=lambda session: session[0])\n",
    "\n",
    "    # Step 2: Initialize smallest gap to a large number\n",
    "    min_gap = float('inf')\n",
    "\n",
    "    # Step 3: Go through each pair of consecutive sessions\n",
    "    for i in range(1, len(work_sessions)):\n",
    "        prev_end = to_minutes(work_sessions[i - 1][1])\n",
    "        curr_start = to_minutes(work_sessions[i][0])\n",
    "        gap = curr_start - prev_end\n",
    "\n",
    "        # Update min_gap if this gap is smaller\n",
    "        if gap < min_gap:\n",
    "            min_gap = gap\n",
    "\n",
    "    return min_gap\n",
    "\n",
    "\n",
    "work_sessions = [(900, 1100), (1300, 1500), (1600, 1800)]\n",
    "print(find_smallest_gap(work_sessions))\n",
    "\n",
    "work_sessions_2 = [(1000, 1130), (1200, 1300), (1400, 1500)]\n",
    "print(find_smallest_gap(work_sessions_2))\n",
    "\n",
    "work_sessions_3 = [(900, 1100), (1115, 1300), (1315, 1500)]\n",
    "print(find_smallest_gap(work_sessions_3))\n"
   ]
  },
  {
   "cell_type": "code",
   "execution_count": 4,
   "metadata": {},
   "outputs": [
    {
     "name": "stdout",
     "output_type": "stream",
     "text": [
      "{'Food': 30.0, 'Transport': 25.0, 'Accommodation': 50.0}\n",
      "{'Entertainment': 25.0, 'Food': 40.0, 'Transport': 10.0, 'Accommodation': 40.0}\n",
      "{'Utilities': 150.0, 'Food': 75.0, 'Transport': 75.0}\n"
     ]
    }
   ],
   "source": [
    "def calculate_expenses(expenses):\n",
    "  categoryTotal = {}\n",
    "  for category, amount in expenses:\n",
    "    if category in categoryTotal:\n",
    "      categoryTotal[category] += amount\n",
    "    else:\n",
    "      categoryTotal[category] = amount\n",
    "  return categoryTotal\n",
    "\n",
    "expenses = [(\"Food\", 12.5), (\"Transport\", 15.0), (\"Accommodation\", 50.0),\n",
    "            (\"Food\", 7.5), (\"Transport\", 10.0), (\"Food\", 10.0)]\n",
    "print(calculate_expenses(expenses))\n",
    "\n",
    "expenses_2 = [(\"Entertainment\", 20.0), (\"Food\", 15.0), (\"Transport\", 10.0),\n",
    "              (\"Entertainment\", 5.0), (\"Food\", 25.0), (\"Accommodation\", 40.0)]\n",
    "print(calculate_expenses(expenses_2))\n",
    "\n",
    "expenses_3 = [(\"Utilities\", 100.0), (\"Food\", 50.0), (\"Transport\", 75.0),\n",
    "              (\"Utilities\", 50.0), (\"Food\", 25.0)]\n",
    "print(calculate_expenses(expenses_3))"
   ]
  },
  {
   "cell_type": "code",
   "execution_count": null,
   "metadata": {},
   "outputs": [
    {
     "name": "stdout",
     "output_type": "stream",
     "text": [
      "{'the': 3, 'quick': 1, 'brown': 1, 'fox': 1, 'jumps': 1, 'over': 1, 'lazy': 1, 'dog': 2, 'was': 1, 'not': 1, 'amused': 1}\n",
      "{'digital': 1, 'nomads': 1, 'love': 1, 'to': 1, 'travel': 2, 'is': 1, 'their': 1, 'passion': 1}\n",
      "{'stay': 3, 'connected': 1, 'productive': 1, 'happy': 1}\n"
     ]
    }
   ],
   "source": [
    "import re\n",
    "\n",
    "def word_frequency_analysis(text):\n",
    "  wordCounter = {}\n",
    "  cleanText = re.sub(r'[^\\w\\s]', '', text.lower())\n",
    "  words=cleanText.split()\n",
    "  for word in words:\n",
    "    if word in wordCounter:\n",
    "      wordCounter[word] += 1\n",
    "    else:\n",
    "      wordCounter[word] = 1\n",
    "  mostRepeatedWord= max(wordCounter.vaules())\n",
    "  \n",
    "\n",
    "text = \"The quick brown fox jumps over the lazy dog. The dog was not amused.\"\n",
    "print(word_frequency_analysis(text))\n",
    "\n",
    "text_2 = \"Digital nomads love to travel. Travel is their passion.\"\n",
    "print(word_frequency_analysis(text_2))\n",
    "\n",
    "text_3 = \"Stay connected. Stay productive. Stay happy.\"\n",
    "print(word_frequency_analysis(text_3))"
   ]
  },
  {
   "cell_type": "code",
   "execution_count": 11,
   "metadata": {},
   "outputs": [
    {
     "name": "stdout",
     "output_type": "stream",
     "text": [
      "Bowser\n",
      "Pirahna Prowler\n",
      "[]\n",
      "Match: Yoshi driving the Super Blooper vs Bowser driving the Pirahna Prowler\n"
     ]
    }
   ],
   "source": [
    "class Player():\n",
    "    def __init__(self, character, kart):\n",
    "        self.character = character\n",
    "        self.kart = kart\n",
    "        self.items = []\n",
    "\n",
    "    def get_player(self):\n",
    "        return f\"{self.character} driving the {self.kart}\"\n",
    "    \n",
    "player_one =Player(\"Yoshi\", \"Super Blooper\")\n",
    "\n",
    "player_two=Player(\"Bowser\",\"Pirahna Prowler\")\n",
    "\n",
    "\n",
    "print(player_two.character)\n",
    "print(player_two.kart)\n",
    "print(player_two.items)\n",
    "\n",
    "print(f\"Match: {player_one.get_player()} vs {player_two.get_player()}\")\n",
    "\n",
    "# print(\"Match: Yoshi driving the Super Blooper vs Bowser driving the Pirahna Prowler\")"
   ]
  },
  {
   "cell_type": "code",
   "execution_count": 15,
   "metadata": {},
   "outputs": [
    {
     "name": "stdout",
     "output_type": "stream",
     "text": [
      "[]\n",
      "['red shell']\n",
      "['red shell', 'super star']\n",
      "['red shell', 'super star']\n"
     ]
    }
   ],
   "source": [
    "class Player():\n",
    "    def __init__(self, character, kart):\n",
    "        self.character = character\n",
    "        self.kart = kart\n",
    "        self.items = []\n",
    "        \n",
    "    def set_character(self, name):\n",
    "        valid_characters = [\"Mario\", \"Luigi\", \"Peach\",\"Yoshi\", \"Toad\", \"Wario\", \"Donkey Kong\", \"Bowser\"]\n",
    "        if name in valid_characters: \n",
    "            self.characteer = name\n",
    "            print(\"Character updated\")\n",
    "        else:\n",
    "            print(\"invalid character\")\n",
    "\n",
    "    def add_item(self, item_name):\n",
    "        valid_items =[\"banana\",\"green shell\",\"red shell\",\"bob-omb\",\"super star\",\"lighting\",\"bullet bill\"]\n",
    "        if item_name in valid_items:\n",
    "            self.items.append(item_name) \n",
    "\n",
    "\n",
    "\n",
    "\n",
    "# player_three = Player(\"Donkey Kong\", \"Standard Kart\")\n",
    "# player_three.set_character(\"Peach\")\n",
    "# print(player_three.character)\n",
    "# player_three.set_character(\"Baby Peach\")\n",
    "# print(player_three.character)\n",
    "\n",
    "player_one = Player(\"Yoshi\", \"Dolphin Dasher\")\n",
    "\n",
    "print(player_one.items)\n",
    "\n",
    "player_one.add_item(\"red shell\")\n",
    "print(player_one.items)\n",
    "\n",
    "player_one.add_item(\"super star\")\n",
    "print(player_one.items)\n",
    "\n",
    "player_one.add_item(\"super smash\")\n",
    "print(player_one.items)\n",
    "\n"
   ]
  }
 ],
 "metadata": {
  "kernelspec": {
   "display_name": ".venv",
   "language": "python",
   "name": "python3"
  },
  "language_info": {
   "codemirror_mode": {
    "name": "ipython",
    "version": 3
   },
   "file_extension": ".py",
   "mimetype": "text/x-python",
   "name": "python",
   "nbconvert_exporter": "python",
   "pygments_lexer": "ipython3",
   "version": "3.13.1"
  }
 },
 "nbformat": 4,
 "nbformat_minor": 2
}
