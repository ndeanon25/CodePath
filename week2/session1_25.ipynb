{
 "cells": [
  {
   "cell_type": "code",
   "execution_count": 1,
   "metadata": {},
   "outputs": [
    {
     "name": "stdout",
     "output_type": "stream",
     "text": [
      "{'Kendrick Lamar': '9:30 PM', 'Chappell Roan': '5:00 PM', 'Mitski': '2:00 PM', 'Rosalia': '7:30 PM'}\n",
      "{}\n"
     ]
    }
   ],
   "source": [
    "# Given two lists of strings artists and set_times of length n, write a function lineup() that maps each artist to their set time. \n",
    "# An artist artists[i] has set time set_times[i]. Assume i <= 0 < n and len(artists) == len(set_times).\n",
    "\n",
    "def lineup(artists,set_times):\n",
    "    zippedList = zip(artists,set_times)\n",
    "    return dict(zippedList)\n",
    "\n",
    "artists1 = [\"Kendrick Lamar\", \"Chappell Roan\", \"Mitski\", \"Rosalia\"]\n",
    "set_times1 = [\"9:30 PM\", \"5:00 PM\", \"2:00 PM\", \"7:30 PM\"]\n",
    "\n",
    "artists2 = []\n",
    "set_times2 = []\n",
    "\n",
    "print(lineup(artists1, set_times1))\n",
    "print(lineup(artists2, set_times2))"
   ]
  },
  {
   "cell_type": "code",
   "execution_count": 2,
   "metadata": {},
   "outputs": [
    {
     "name": "stdout",
     "output_type": "stream",
     "text": [
      "{'Kendrick Lamar': '9:30 PM', 'Chappell Roan': '5:00 PM', 'Mitski': '2:00 PM', 'Rosalia': '7:30 PM'}\n",
      "{}\n"
     ]
    }
   ],
   "source": [
    "def get_artist_info(artist, festival_schedule):\n",
    "    if(festival_schedule.get(artist) == None):\n",
    "        return \"Not Found\"\n",
    "    else:\n",
    "        return festival_schedule.get(artist)\n",
    "    \n",
    "artists1 = [\"Kendrick Lamar\", \"Chappell Roan\", \"Mitski\", \"Rosalia\"]\n",
    "set_times1 = [\"9:30 PM\", \"5:00 PM\", \"2:00 PM\", \"7:30 PM\"]\n",
    "\n",
    "artists2 = []\n",
    "set_times2 = []\n",
    "\n",
    "print(lineup(artists1, set_times1))\n",
    "print(lineup(artists2, set_times2))\n",
    "\n"
   ]
  },
  {
   "cell_type": "code",
   "execution_count": 5,
   "metadata": {},
   "outputs": [
    {
     "name": "stdout",
     "output_type": "stream",
     "text": [
      "4500\n"
     ]
    }
   ],
   "source": [
    "def total_sales(ticket_sales):\n",
    "    valuesList=ticket_sales.values()\n",
    "    return sum(valuesList)\n",
    "    \n",
    "ticket_sales = {\"Friday\": 200, \"Saturday\": 1000, \"Sunday\": 800, \"3-Day Pass\": 2500}\n",
    "\n",
    "print(total_sales(ticket_sales))"
   ]
  },
  {
   "cell_type": "code",
   "execution_count": null,
   "metadata": {},
   "outputs": [
    {
     "name": "stdout",
     "output_type": "stream",
     "text": [
      "{'Stromae': '9:00 PM', 'HARDY': '7:00 PM'}\n"
     ]
    }
   ],
   "source": [
    "def identify_conflicts(venue1_schedule,venue2_schedule):\n",
    "    return{\n",
    "        artist: time\n",
    "        for artist,time in venue1_schedule.items()\n",
    "            if artist in venue2_schedule and venue2_schedule[artist] == time\n",
    "    }\n",
    "\n",
    "venue1_schedule = {\n",
    "    \"Stromae\": \"9:00 PM\",\n",
    "    \"Janelle Monáe\": \"8:00 PM\",\n",
    "    \"HARDY\": \"7:00 PM\",\n",
    "    \"Bruce Springsteen\": \"6:00 PM\"\n",
    "}\n",
    "\n",
    "venue2_schedule = {\n",
    "    \"Stromae\": \"9:00 PM\",\n",
    "    \"Janelle Monáe\": \"10:30 PM\",\n",
    "    \"HARDY\": \"7:00 PM\",\n",
    "    \"Wizkid\": \"6:00 PM\"\n",
    "}\n",
    "\n",
    "print(identify_conflicts(venue1_schedule, venue2_schedule))"
   ]
  },
  {
   "cell_type": "code",
   "execution_count": null,
   "metadata": {},
   "outputs": [
    {
     "name": "stdout",
     "output_type": "stream",
     "text": [
      "[('SZA', 3)]\n",
      "[('SZA', 2)]\n"
     ]
    }
   ],
   "source": [
    "from collections import Counter\n",
    "\n",
    "def best_set(votes):\n",
    "    allVotes = Counter(votes.values())\n",
    "    return allVotes.most_common(1)\n",
    "\n",
    "votes1 = {\n",
    "    1234: \"SZA\", \n",
    "    1235: \"Yo-Yo Ma\",\n",
    "    1236: \"Ethel Cain\",\n",
    "    1237: \"Ethel Cain\",\n",
    "    1238: \"SZA\",\n",
    "    1239: \"SZA\"\n",
    "}\n",
    "\n",
    "votes2 = {\n",
    "    1234: \"SZA\", \n",
    "    1235: \"Yo-Yo Ma\",\n",
    "    1236: \"Ethel Cain\",\n",
    "    1237: \"Ethel Cain\",\n",
    "    1238: \"SZA\"\n",
    "}\n",
    "\n",
    "print(best_set(votes1))\n",
    "print(best_set(votes2))\n"
   ]
  },
  {
   "cell_type": "code",
   "execution_count": 18,
   "metadata": {},
   "outputs": [
    {
     "name": "stdout",
     "output_type": "stream",
     "text": [
      "250\n",
      "440\n"
     ]
    }
   ],
   "source": [
    "def max_audience_performances(audiences):\n",
    "    max_Audiences = max(audiences)\n",
    "    return sum(x for x in audiences if x==max_Audiences)\n",
    "\n",
    "audiences1 = [100, 200, 200, 150, 100, 250]\n",
    "audiences2 = [120, 180, 220, 150, 220]\n",
    "\n",
    "print(max_audience_performances(audiences1))\n",
    "print(max_audience_performances(audiences2))"
   ]
  },
  {
   "cell_type": "code",
   "execution_count": 20,
   "metadata": {},
   "outputs": [
    {
     "name": "stdout",
     "output_type": "stream",
     "text": [
      "550\n",
      "840\n"
     ]
    }
   ],
   "source": [
    "def max_audience_performances(audiences):\n",
    "    dict = {}\n",
    "    for x in audiences:\n",
    "        if x in dict:\n",
    "            dict[x] += 1\n",
    "        else:\n",
    "            dict[x] = 1\n",
    "\n",
    "    maxAudience = max(dict.keys())\n",
    "\n",
    "    return maxAudience * dict[maxAudience]\n",
    "\n",
    "audiences1 = [100, 200, 200, 150, 100, 550]\n",
    "audiences2 = [120, 180, 420, 150, 420]\n",
    "\n",
    "print(max_audience_performances(audiences1))\n",
    "print(max_audience_performances(audiences2))"
   ]
  },
  {
   "cell_type": "code",
   "execution_count": null,
   "metadata": {},
   "outputs": [],
   "source": []
  }
 ],
 "metadata": {
  "kernelspec": {
   "display_name": ".venv",
   "language": "python",
   "name": "python3"
  },
  "language_info": {
   "codemirror_mode": {
    "name": "ipython",
    "version": 3
   },
   "file_extension": ".py",
   "mimetype": "text/x-python",
   "name": "python",
   "nbconvert_exporter": "python",
   "pygments_lexer": "ipython3",
   "version": "3.13.1"
  }
 },
 "nbformat": 4,
 "nbformat_minor": 2
}
